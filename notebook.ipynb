{
 "cells": [
  {
   "cell_type": "code",
   "execution_count": 21,
   "metadata": {},
   "outputs": [],
   "source": [
    "using CSV, DataFrames, TypedTables, GLM, Plots, Makie"
   ]
  },
  {
   "cell_type": "code",
   "execution_count": 22,
   "metadata": {},
   "outputs": [
    {
     "data": {
      "text/html": [
       "<div><div style = \"float: left;\"><span>5512×10 DataFrame</span></div><div style = \"float: right;\"><span style = \"font-style: italic;\">5487 rows omitted</span></div><div style = \"clear: both;\"></div></div><div class = \"data-frame\" style = \"overflow-x: scroll;\"><table class = \"data-frame\" style = \"margin-bottom: 6px;\"><thead><tr class = \"header\"><th class = \"rowNumber\" style = \"font-weight: bold; text-align: right;\">Row</th><th style = \"text-align: left;\">Column1</th><th style = \"text-align: left;\">car_name</th><th style = \"text-align: left;\">car_prices_in_rupee</th><th style = \"text-align: left;\">kms_driven</th><th style = \"text-align: left;\">fuel_type</th><th style = \"text-align: left;\">transmission</th><th style = \"text-align: left;\">ownership</th><th style = \"text-align: left;\">manufacture</th><th style = \"text-align: left;\">engine</th><th style = \"text-align: left;\">Seats</th></tr><tr class = \"subheader headerLastRow\"><th class = \"rowNumber\" style = \"font-weight: bold; text-align: right;\"></th><th title = \"Int64\" style = \"text-align: left;\">Int64</th><th title = \"String\" style = \"text-align: left;\">String</th><th title = \"String15\" style = \"text-align: left;\">String15</th><th title = \"String15\" style = \"text-align: left;\">String15</th><th title = \"String15\" style = \"text-align: left;\">String15</th><th title = \"String15\" style = \"text-align: left;\">String15</th><th title = \"String15\" style = \"text-align: left;\">String15</th><th title = \"Int64\" style = \"text-align: left;\">Int64</th><th title = \"String7\" style = \"text-align: left;\">String7</th><th title = \"String7\" style = \"text-align: left;\">String7</th></tr></thead><tbody><tr><td class = \"rowNumber\" style = \"font-weight: bold; text-align: right;\">1</td><td style = \"text-align: right;\">0</td><td style = \"text-align: left;\">Jeep Compass 2.0 Longitude Option BSIV</td><td style = \"text-align: left;\">10.03 Lakh</td><td style = \"text-align: left;\">86,226 kms</td><td style = \"text-align: left;\">Diesel</td><td style = \"text-align: left;\">Manual</td><td style = \"text-align: left;\">1st Owner</td><td style = \"text-align: right;\">2017</td><td style = \"text-align: left;\">1956 cc</td><td style = \"text-align: left;\">5 Seats</td></tr><tr><td class = \"rowNumber\" style = \"font-weight: bold; text-align: right;\">2</td><td style = \"text-align: right;\">1</td><td style = \"text-align: left;\">Renault Duster RXZ Turbo CVT</td><td style = \"text-align: left;\">12.83 Lakh</td><td style = \"text-align: left;\">13,248 kms</td><td style = \"text-align: left;\">Petrol</td><td style = \"text-align: left;\">Automatic</td><td style = \"text-align: left;\">1st Owner</td><td style = \"text-align: right;\">2021</td><td style = \"text-align: left;\">1330 cc</td><td style = \"text-align: left;\">5 Seats</td></tr><tr><td class = \"rowNumber\" style = \"font-weight: bold; text-align: right;\">3</td><td style = \"text-align: right;\">2</td><td style = \"text-align: left;\">Toyota Camry 2.5 G</td><td style = \"text-align: left;\">16.40 Lakh</td><td style = \"text-align: left;\">60,343 kms</td><td style = \"text-align: left;\">Petrol</td><td style = \"text-align: left;\">Automatic</td><td style = \"text-align: left;\">1st Owner</td><td style = \"text-align: right;\">2016</td><td style = \"text-align: left;\">2494 cc</td><td style = \"text-align: left;\">5 Seats</td></tr><tr><td class = \"rowNumber\" style = \"font-weight: bold; text-align: right;\">4</td><td style = \"text-align: right;\">3</td><td style = \"text-align: left;\">Honda Jazz VX CVT</td><td style = \"text-align: left;\">7.77 Lakh</td><td style = \"text-align: left;\">26,696 kms</td><td style = \"text-align: left;\">Petrol</td><td style = \"text-align: left;\">Automatic</td><td style = \"text-align: left;\">1st Owner</td><td style = \"text-align: right;\">2018</td><td style = \"text-align: left;\">1199 cc</td><td style = \"text-align: left;\">5 Seats</td></tr><tr><td class = \"rowNumber\" style = \"font-weight: bold; text-align: right;\">5</td><td style = \"text-align: right;\">4</td><td style = \"text-align: left;\">Volkswagen Polo 1.2 MPI Highline</td><td style = \"text-align: left;\">5.15 Lakh</td><td style = \"text-align: left;\">69,414 kms</td><td style = \"text-align: left;\">Petrol</td><td style = \"text-align: left;\">Manual</td><td style = \"text-align: left;\">1st Owner</td><td style = \"text-align: right;\">2016</td><td style = \"text-align: left;\">1199 cc</td><td style = \"text-align: left;\">5 Seats</td></tr><tr><td class = \"rowNumber\" style = \"font-weight: bold; text-align: right;\">6</td><td style = \"text-align: right;\">5</td><td style = \"text-align: left;\">Volkswagen Vento 1.2 TSI Highline AT</td><td style = \"text-align: left;\">7.66 Lakh</td><td style = \"text-align: left;\">49,719 kms</td><td style = \"text-align: left;\">Petrol</td><td style = \"text-align: left;\">Automatic</td><td style = \"text-align: left;\">1st Owner</td><td style = \"text-align: right;\">2017</td><td style = \"text-align: left;\">1197 cc</td><td style = \"text-align: left;\">5 Seats</td></tr><tr><td class = \"rowNumber\" style = \"font-weight: bold; text-align: right;\">7</td><td style = \"text-align: right;\">6</td><td style = \"text-align: left;\">Volkswagen Vento 1.2 TSI Highline Plus AT</td><td style = \"text-align: left;\">7.58 Lakh</td><td style = \"text-align: left;\">43,688 kms</td><td style = \"text-align: left;\">Petrol</td><td style = \"text-align: left;\">Automatic</td><td style = \"text-align: left;\">1st Owner</td><td style = \"text-align: right;\">2017</td><td style = \"text-align: left;\">1197 cc</td><td style = \"text-align: left;\">5 Seats</td></tr><tr><td class = \"rowNumber\" style = \"font-weight: bold; text-align: right;\">8</td><td style = \"text-align: right;\">7</td><td style = \"text-align: left;\">Honda WR-V VX Diesel</td><td style = \"text-align: left;\">11.60 Lakh</td><td style = \"text-align: left;\">14,470 kms</td><td style = \"text-align: left;\">Diesel</td><td style = \"text-align: left;\">Manual</td><td style = \"text-align: left;\">1st Owner</td><td style = \"text-align: right;\">2021</td><td style = \"text-align: left;\">1498 cc</td><td style = \"text-align: left;\">5 Seats</td></tr><tr><td class = \"rowNumber\" style = \"font-weight: bold; text-align: right;\">9</td><td style = \"text-align: right;\">8</td><td style = \"text-align: left;\">Honda City i VTEC CVT SV</td><td style = \"text-align: left;\">6.99 Lakh</td><td style = \"text-align: left;\">21,429 kms</td><td style = \"text-align: left;\">Petrol</td><td style = \"text-align: left;\">Automatic</td><td style = \"text-align: left;\">1st Owner</td><td style = \"text-align: right;\">2015</td><td style = \"text-align: left;\">1497 cc</td><td style = \"text-align: left;\">5 Seats</td></tr><tr><td class = \"rowNumber\" style = \"font-weight: bold; text-align: right;\">10</td><td style = \"text-align: right;\">9</td><td style = \"text-align: left;\">Renault Duster Petrol RXS CVT</td><td style = \"text-align: left;\">7.53 Lakh</td><td style = \"text-align: left;\">31,750 kms</td><td style = \"text-align: left;\">Petrol</td><td style = \"text-align: left;\">Automatic</td><td style = \"text-align: left;\">1st Owner</td><td style = \"text-align: right;\">2017</td><td style = \"text-align: left;\">1498 cc</td><td style = \"text-align: left;\">5 Seats</td></tr><tr><td class = \"rowNumber\" style = \"font-weight: bold; text-align: right;\">11</td><td style = \"text-align: right;\">10</td><td style = \"text-align: left;\">Maruti Baleno 1.2 Alpha</td><td style = \"text-align: left;\">6.43 Lakh</td><td style = \"text-align: left;\">38,203 kms</td><td style = \"text-align: left;\">Petrol</td><td style = \"text-align: left;\">Manual</td><td style = \"text-align: left;\">1st Owner</td><td style = \"text-align: right;\">2017</td><td style = \"text-align: left;\">1197 cc</td><td style = \"text-align: left;\">5 Seats</td></tr><tr><td class = \"rowNumber\" style = \"font-weight: bold; text-align: right;\">12</td><td style = \"text-align: right;\">11</td><td style = \"text-align: left;\">Honda City i VTEC CVT SV</td><td style = \"text-align: left;\">5.43 Lakh</td><td style = \"text-align: left;\">1,10,284 kms</td><td style = \"text-align: left;\">Petrol</td><td style = \"text-align: left;\">Automatic</td><td style = \"text-align: left;\">1st Owner</td><td style = \"text-align: right;\">2014</td><td style = \"text-align: left;\">1497 cc</td><td style = \"text-align: left;\">5 Seats</td></tr><tr><td class = \"rowNumber\" style = \"font-weight: bold; text-align: right;\">13</td><td style = \"text-align: right;\">12</td><td style = \"text-align: left;\">Mahindra XUV300 W6</td><td style = \"text-align: left;\">8.62 Lakh</td><td style = \"text-align: left;\">10,381 kms</td><td style = \"text-align: left;\">Petrol</td><td style = \"text-align: left;\">Manual</td><td style = \"text-align: left;\">1st Owner</td><td style = \"text-align: right;\">2020</td><td style = \"text-align: left;\">1197 cc</td><td style = \"text-align: left;\">5 Seats</td></tr><tr><td style = \"text-align: right;\">&vellip;</td><td style = \"text-align: right;\">&vellip;</td><td style = \"text-align: right;\">&vellip;</td><td style = \"text-align: right;\">&vellip;</td><td style = \"text-align: right;\">&vellip;</td><td style = \"text-align: right;\">&vellip;</td><td style = \"text-align: right;\">&vellip;</td><td style = \"text-align: right;\">&vellip;</td><td style = \"text-align: right;\">&vellip;</td><td style = \"text-align: right;\">&vellip;</td><td style = \"text-align: right;\">&vellip;</td></tr><tr><td class = \"rowNumber\" style = \"font-weight: bold; text-align: right;\">5501</td><td style = \"text-align: right;\">5500</td><td style = \"text-align: left;\">Mercedes-Benz E-Class E250 CDI</td><td style = \"text-align: left;\">13.90 Lakh</td><td style = \"text-align: left;\">79,000 kms</td><td style = \"text-align: left;\">Diesel</td><td style = \"text-align: left;\">Automatic</td><td style = \"text-align: left;\">1st Owner</td><td style = \"text-align: right;\">2013</td><td style = \"text-align: left;\">2979 cc</td><td style = \"text-align: left;\">7 Seats</td></tr><tr><td class = \"rowNumber\" style = \"font-weight: bold; text-align: right;\">5502</td><td style = \"text-align: right;\">5501</td><td style = \"text-align: left;\">Hyundai i20 Sportz Plus BSIV</td><td style = \"text-align: left;\">7.50 Lakh</td><td style = \"text-align: left;\">45,000 kms</td><td style = \"text-align: left;\">Petrol</td><td style = \"text-align: left;\">Manual</td><td style = \"text-align: left;\">1st Owner</td><td style = \"text-align: right;\">2019</td><td style = \"text-align: left;\">2179 cc</td><td style = \"text-align: left;\">5 Seats</td></tr><tr><td class = \"rowNumber\" style = \"font-weight: bold; text-align: right;\">5503</td><td style = \"text-align: right;\">5502</td><td style = \"text-align: left;\">Mercedes-Benz CLA 200 CDI Sport</td><td style = \"text-align: left;\">23.90 Lakh</td><td style = \"text-align: left;\">50,000 kms</td><td style = \"text-align: left;\">Diesel</td><td style = \"text-align: left;\">Automatic</td><td style = \"text-align: left;\">2nd Owner</td><td style = \"text-align: right;\">2017</td><td style = \"text-align: left;\">2993 cc</td><td style = \"text-align: left;\">5 Seats</td></tr><tr><td class = \"rowNumber\" style = \"font-weight: bold; text-align: right;\">5504</td><td style = \"text-align: right;\">5503</td><td style = \"text-align: left;\">Mercedes-Benz C-Class 250 CDI Classic</td><td style = \"text-align: left;\">10.90 Lakh</td><td style = \"text-align: left;\">98,000 kms</td><td style = \"text-align: left;\">Diesel</td><td style = \"text-align: left;\">Automatic</td><td style = \"text-align: left;\">1st Owner</td><td style = \"text-align: right;\">2011</td><td style = \"text-align: left;\">1995 cc</td><td style = \"text-align: left;\">7 Seats</td></tr><tr><td class = \"rowNumber\" style = \"font-weight: bold; text-align: right;\">5505</td><td style = \"text-align: right;\">5504</td><td style = \"text-align: left;\">BMW X5 xDrive 30d</td><td style = \"text-align: left;\">49.90 Lakh</td><td style = \"text-align: left;\">75,000 kms</td><td style = \"text-align: left;\">Diesel</td><td style = \"text-align: left;\">Automatic</td><td style = \"text-align: left;\">2nd Owner</td><td style = \"text-align: right;\">2018</td><td style = \"text-align: left;\">1995 cc</td><td style = \"text-align: left;\">7 Seats</td></tr><tr><td class = \"rowNumber\" style = \"font-weight: bold; text-align: right;\">5506</td><td style = \"text-align: right;\">5505</td><td style = \"text-align: left;\">Maruti Vitara Brezza ZDi Plus</td><td style = \"text-align: left;\">7.95 Lakh</td><td style = \"text-align: left;\">60,000 kms</td><td style = \"text-align: left;\">Diesel</td><td style = \"text-align: left;\">Manual</td><td style = \"text-align: left;\">1st Owner</td><td style = \"text-align: right;\">2017</td><td style = \"text-align: left;\">2143 cc</td><td style = \"text-align: left;\">4 Seats</td></tr><tr><td class = \"rowNumber\" style = \"font-weight: bold; text-align: right;\">5507</td><td style = \"text-align: right;\">5506</td><td style = \"text-align: left;\">BMW X5 xDrive 30d</td><td style = \"text-align: left;\">32.90 Lakh</td><td style = \"text-align: left;\">99,000 kms</td><td style = \"text-align: left;\">Diesel</td><td style = \"text-align: left;\">Automatic</td><td style = \"text-align: left;\">1st Owner</td><td style = \"text-align: right;\">2015</td><td style = \"text-align: left;\">1999 cc</td><td style = \"text-align: left;\">5 Seats</td></tr><tr><td class = \"rowNumber\" style = \"font-weight: bold; text-align: right;\">5508</td><td style = \"text-align: right;\">5507</td><td style = \"text-align: left;\">BMW X1 sDrive 20d xLine</td><td style = \"text-align: left;\">28.90 Lakh</td><td style = \"text-align: left;\">45,000 kms</td><td style = \"text-align: left;\">Diesel</td><td style = \"text-align: left;\">Automatic</td><td style = \"text-align: left;\">1st Owner</td><td style = \"text-align: right;\">2018</td><td style = \"text-align: left;\">2995 cc</td><td style = \"text-align: left;\">7 Seats</td></tr><tr><td class = \"rowNumber\" style = \"font-weight: bold; text-align: right;\">5509</td><td style = \"text-align: right;\">5508</td><td style = \"text-align: left;\">BMW M Series M4 Coupe</td><td style = \"text-align: left;\">64.90 Lakh</td><td style = \"text-align: left;\">29,000 kms</td><td style = \"text-align: left;\">Petrol</td><td style = \"text-align: left;\">Automatic</td><td style = \"text-align: left;\">2nd Owner</td><td style = \"text-align: right;\">2015</td><td style = \"text-align: left;\">1968 cc</td><td style = \"text-align: left;\">5 Seats</td></tr><tr><td class = \"rowNumber\" style = \"font-weight: bold; text-align: right;\">5510</td><td style = \"text-align: right;\">5509</td><td style = \"text-align: left;\">Jaguar XF 2.2 Litre Luxury</td><td style = \"text-align: left;\">13.75 Lakh</td><td style = \"text-align: left;\">90,000 kms</td><td style = \"text-align: left;\">Diesel</td><td style = \"text-align: left;\">Automatic</td><td style = \"text-align: left;\">2nd Owner</td><td style = \"text-align: right;\">2013</td><td style = \"text-align: left;\">2755 cc</td><td style = \"text-align: left;\">5 Seats</td></tr><tr><td class = \"rowNumber\" style = \"font-weight: bold; text-align: right;\">5511</td><td style = \"text-align: right;\">5510</td><td style = \"text-align: left;\">BMW 7 Series 730Ld</td><td style = \"text-align: left;\">29.90 Lakh</td><td style = \"text-align: left;\">79,000 kms</td><td style = \"text-align: left;\">Diesel</td><td style = \"text-align: left;\">Automatic</td><td style = \"text-align: left;\">3rd Owner</td><td style = \"text-align: right;\">2015</td><td style = \"text-align: left;\">2967 cc</td><td style = \"text-align: left;\">6 Seats</td></tr><tr><td class = \"rowNumber\" style = \"font-weight: bold; text-align: right;\">5512</td><td style = \"text-align: right;\">5511</td><td style = \"text-align: left;\">BMW 5 Series 520d M Sport</td><td style = \"text-align: left;\">31.90 Lakh</td><td style = \"text-align: left;\">42,000 kms</td><td style = \"text-align: left;\">Diesel</td><td style = \"text-align: left;\">Automatic</td><td style = \"text-align: left;\">2nd Owner</td><td style = \"text-align: right;\">2017</td><td style = \"text-align: left;\">1991 cc</td><td style = \"text-align: left;\">5 Seats</td></tr></tbody></table></div>"
      ],
      "text/latex": [
       "\\begin{tabular}{r|ccccc}\n",
       "\t& Column1 & car\\_name & car\\_prices\\_in\\_rupee & kms\\_driven & \\\\\n",
       "\t\\hline\n",
       "\t& Int64 & String & String15 & String15 & \\\\\n",
       "\t\\hline\n",
       "\t1 & 0 & Jeep Compass 2.0 Longitude Option BSIV & 10.03 Lakh & 86,226 kms & $\\dots$ \\\\\n",
       "\t2 & 1 & Renault Duster RXZ Turbo CVT & 12.83 Lakh & 13,248 kms & $\\dots$ \\\\\n",
       "\t3 & 2 & Toyota Camry 2.5 G & 16.40 Lakh & 60,343 kms & $\\dots$ \\\\\n",
       "\t4 & 3 & Honda Jazz VX CVT & 7.77 Lakh & 26,696 kms & $\\dots$ \\\\\n",
       "\t5 & 4 & Volkswagen Polo 1.2 MPI Highline & 5.15 Lakh & 69,414 kms & $\\dots$ \\\\\n",
       "\t6 & 5 & Volkswagen Vento 1.2 TSI Highline AT & 7.66 Lakh & 49,719 kms & $\\dots$ \\\\\n",
       "\t7 & 6 & Volkswagen Vento 1.2 TSI Highline Plus AT & 7.58 Lakh & 43,688 kms & $\\dots$ \\\\\n",
       "\t8 & 7 & Honda WR-V VX Diesel & 11.60 Lakh & 14,470 kms & $\\dots$ \\\\\n",
       "\t9 & 8 & Honda City i VTEC CVT SV & 6.99 Lakh & 21,429 kms & $\\dots$ \\\\\n",
       "\t10 & 9 & Renault Duster Petrol RXS CVT & 7.53 Lakh & 31,750 kms & $\\dots$ \\\\\n",
       "\t11 & 10 & Maruti Baleno 1.2 Alpha & 6.43 Lakh & 38,203 kms & $\\dots$ \\\\\n",
       "\t12 & 11 & Honda City i VTEC CVT SV & 5.43 Lakh & 1,10,284 kms & $\\dots$ \\\\\n",
       "\t13 & 12 & Mahindra XUV300 W6 & 8.62 Lakh & 10,381 kms & $\\dots$ \\\\\n",
       "\t14 & 13 & Jeep Compass 1.4 Limited Plus BSIV & 16.78 Lakh & 32,378 kms & $\\dots$ \\\\\n",
       "\t15 & 14 & Honda City V MT & 10.03 Lakh & 38,906 kms & $\\dots$ \\\\\n",
       "\t16 & 15 & Hyundai Grand i10 AT Asta & 5.63 Lakh & 59,313 kms & $\\dots$ \\\\\n",
       "\t17 & 16 & Hyundai i20 1.4 Asta & 6.67 Lakh & 85,672 kms & $\\dots$ \\\\\n",
       "\t18 & 17 & Maruti Ciaz 1.4 Delta & 6.73 Lakh & 34,971 kms & $\\dots$ \\\\\n",
       "\t19 & 18 & Nissan Micra XL Optional & 3.21 Lakh & 35,894 kms & $\\dots$ \\\\\n",
       "\t20 & 19 & Maruti Ciaz Alpha Automatic BSIV & 8.50 Lakh & 56,000 kms & $\\dots$ \\\\\n",
       "\t21 & 20 & Maruti Swift Dzire VXI & 4.34 Lakh & 56,568 kms & $\\dots$ \\\\\n",
       "\t22 & 21 & Renault KWID RXT & 3.11 Lakh & 48,872 kms & $\\dots$ \\\\\n",
       "\t23 & 22 & Renault KWID RXL BSIV & 3.70 Lakh & 17,346 kms & $\\dots$ \\\\\n",
       "\t24 & 23 & Jeep Compass 2.0 Limited Plus BSIV & 15.88 Lakh & 15,414 kms & $\\dots$ \\\\\n",
       "\t$\\dots$ & $\\dots$ & $\\dots$ & $\\dots$ & $\\dots$ &  \\\\\n",
       "\\end{tabular}\n"
      ],
      "text/plain": [
       "\u001b[1m5512×10 DataFrame\u001b[0m\n",
       "\u001b[1m  Row \u001b[0m│\u001b[1m Column1 \u001b[0m\u001b[1m car_name                          \u001b[0m\u001b[1m car_prices_in_rupee \u001b[0m\u001b[1m kms_d\u001b[0m ⋯\n",
       "      │\u001b[90m Int64   \u001b[0m\u001b[90m String                            \u001b[0m\u001b[90m String15            \u001b[0m\u001b[90m Strin\u001b[0m ⋯\n",
       "──────┼─────────────────────────────────────────────────────────────────────────\n",
       "    1 │       0  Jeep Compass 2.0 Longitude Optio…  10.03 Lakh           86,22 ⋯\n",
       "    2 │       1  Renault Duster RXZ Turbo CVT       12.83 Lakh           13,24\n",
       "    3 │       2  Toyota Camry 2.5 G                 16.40 Lakh           60,34\n",
       "    4 │       3  Honda Jazz VX CVT                  7.77 Lakh            26,69\n",
       "    5 │       4  Volkswagen Polo 1.2 MPI Highline   5.15 Lakh            69,41 ⋯\n",
       "    6 │       5  Volkswagen Vento 1.2 TSI Highlin…  7.66 Lakh            49,71\n",
       "    7 │       6  Volkswagen Vento 1.2 TSI Highlin…  7.58 Lakh            43,68\n",
       "    8 │       7  Honda WR-V VX Diesel               11.60 Lakh           14,47\n",
       "  ⋮   │    ⋮                     ⋮                           ⋮               ⋮ ⋱\n",
       " 5506 │    5505  Maruti Vitara Brezza ZDi Plus      7.95 Lakh            60,00 ⋯\n",
       " 5507 │    5506  BMW X5 xDrive 30d                  32.90 Lakh           99,00\n",
       " 5508 │    5507  BMW X1 sDrive 20d xLine            28.90 Lakh           45,00\n",
       " 5509 │    5508  BMW M Series M4 Coupe              64.90 Lakh           29,00\n",
       " 5510 │    5509  Jaguar XF 2.2 Litre Luxury         13.75 Lakh           90,00 ⋯\n",
       " 5511 │    5510  BMW 7 Series 730Ld                 29.90 Lakh           79,00\n",
       " 5512 │    5511  BMW 5 Series 520d M Sport          31.90 Lakh           42,00\n",
       "\u001b[36m                                                 7 columns and 5497 rows omitted\u001b[0m"
      ]
     },
     "metadata": {},
     "output_type": "display_data"
    }
   ],
   "source": [
    "oldcarprices=DataFrame(CSV.File(\"data/car_price.csv\"))"
   ]
  },
  {
   "cell_type": "code",
   "execution_count": 23,
   "metadata": {},
   "outputs": [
    {
     "data": {
      "text/html": [
       "<div><div style = \"float: left;\"><span>5×10 DataFrame</span></div><div style = \"clear: both;\"></div></div><div class = \"data-frame\" style = \"overflow-x: scroll;\"><table class = \"data-frame\" style = \"margin-bottom: 6px;\"><thead><tr class = \"header\"><th class = \"rowNumber\" style = \"font-weight: bold; text-align: right;\">Row</th><th style = \"text-align: left;\">Column1</th><th style = \"text-align: left;\">car_name</th><th style = \"text-align: left;\">car_prices_in_rupee</th><th style = \"text-align: left;\">kms_driven</th><th style = \"text-align: left;\">fuel_type</th><th style = \"text-align: left;\">transmission</th><th style = \"text-align: left;\">ownership</th><th style = \"text-align: left;\">manufacture</th><th style = \"text-align: left;\">engine</th><th style = \"text-align: left;\">Seats</th></tr><tr class = \"subheader headerLastRow\"><th class = \"rowNumber\" style = \"font-weight: bold; text-align: right;\"></th><th title = \"Int64\" style = \"text-align: left;\">Int64</th><th title = \"String\" style = \"text-align: left;\">String</th><th title = \"String15\" style = \"text-align: left;\">String15</th><th title = \"String15\" style = \"text-align: left;\">String15</th><th title = \"String15\" style = \"text-align: left;\">String15</th><th title = \"String15\" style = \"text-align: left;\">String15</th><th title = \"String15\" style = \"text-align: left;\">String15</th><th title = \"Int64\" style = \"text-align: left;\">Int64</th><th title = \"String7\" style = \"text-align: left;\">String7</th><th title = \"String7\" style = \"text-align: left;\">String7</th></tr></thead><tbody><tr><td class = \"rowNumber\" style = \"font-weight: bold; text-align: right;\">1</td><td style = \"text-align: right;\">0</td><td style = \"text-align: left;\">Jeep Compass 2.0 Longitude Option BSIV</td><td style = \"text-align: left;\">10.03 Lakh</td><td style = \"text-align: left;\">86,226 kms</td><td style = \"text-align: left;\">Diesel</td><td style = \"text-align: left;\">Manual</td><td style = \"text-align: left;\">1st Owner</td><td style = \"text-align: right;\">2017</td><td style = \"text-align: left;\">1956 cc</td><td style = \"text-align: left;\">5 Seats</td></tr><tr><td class = \"rowNumber\" style = \"font-weight: bold; text-align: right;\">2</td><td style = \"text-align: right;\">1</td><td style = \"text-align: left;\">Renault Duster RXZ Turbo CVT</td><td style = \"text-align: left;\">12.83 Lakh</td><td style = \"text-align: left;\">13,248 kms</td><td style = \"text-align: left;\">Petrol</td><td style = \"text-align: left;\">Automatic</td><td style = \"text-align: left;\">1st Owner</td><td style = \"text-align: right;\">2021</td><td style = \"text-align: left;\">1330 cc</td><td style = \"text-align: left;\">5 Seats</td></tr><tr><td class = \"rowNumber\" style = \"font-weight: bold; text-align: right;\">3</td><td style = \"text-align: right;\">2</td><td style = \"text-align: left;\">Toyota Camry 2.5 G</td><td style = \"text-align: left;\">16.40 Lakh</td><td style = \"text-align: left;\">60,343 kms</td><td style = \"text-align: left;\">Petrol</td><td style = \"text-align: left;\">Automatic</td><td style = \"text-align: left;\">1st Owner</td><td style = \"text-align: right;\">2016</td><td style = \"text-align: left;\">2494 cc</td><td style = \"text-align: left;\">5 Seats</td></tr><tr><td class = \"rowNumber\" style = \"font-weight: bold; text-align: right;\">4</td><td style = \"text-align: right;\">3</td><td style = \"text-align: left;\">Honda Jazz VX CVT</td><td style = \"text-align: left;\">7.77 Lakh</td><td style = \"text-align: left;\">26,696 kms</td><td style = \"text-align: left;\">Petrol</td><td style = \"text-align: left;\">Automatic</td><td style = \"text-align: left;\">1st Owner</td><td style = \"text-align: right;\">2018</td><td style = \"text-align: left;\">1199 cc</td><td style = \"text-align: left;\">5 Seats</td></tr><tr><td class = \"rowNumber\" style = \"font-weight: bold; text-align: right;\">5</td><td style = \"text-align: right;\">4</td><td style = \"text-align: left;\">Volkswagen Polo 1.2 MPI Highline</td><td style = \"text-align: left;\">5.15 Lakh</td><td style = \"text-align: left;\">69,414 kms</td><td style = \"text-align: left;\">Petrol</td><td style = \"text-align: left;\">Manual</td><td style = \"text-align: left;\">1st Owner</td><td style = \"text-align: right;\">2016</td><td style = \"text-align: left;\">1199 cc</td><td style = \"text-align: left;\">5 Seats</td></tr></tbody></table></div>"
      ],
      "text/latex": [
       "\\begin{tabular}{r|ccccc}\n",
       "\t& Column1 & car\\_name & car\\_prices\\_in\\_rupee & kms\\_driven & \\\\\n",
       "\t\\hline\n",
       "\t& Int64 & String & String15 & String15 & \\\\\n",
       "\t\\hline\n",
       "\t1 & 0 & Jeep Compass 2.0 Longitude Option BSIV & 10.03 Lakh & 86,226 kms & $\\dots$ \\\\\n",
       "\t2 & 1 & Renault Duster RXZ Turbo CVT & 12.83 Lakh & 13,248 kms & $\\dots$ \\\\\n",
       "\t3 & 2 & Toyota Camry 2.5 G & 16.40 Lakh & 60,343 kms & $\\dots$ \\\\\n",
       "\t4 & 3 & Honda Jazz VX CVT & 7.77 Lakh & 26,696 kms & $\\dots$ \\\\\n",
       "\t5 & 4 & Volkswagen Polo 1.2 MPI Highline & 5.15 Lakh & 69,414 kms & $\\dots$ \\\\\n",
       "\\end{tabular}\n"
      ],
      "text/plain": [
       "\u001b[1m5×10 DataFrame\u001b[0m\n",
       "\u001b[1m Row \u001b[0m│\u001b[1m Column1 \u001b[0m\u001b[1m car_name                          \u001b[0m\u001b[1m car_prices_in_rupee \u001b[0m\u001b[1m kms_dr\u001b[0m ⋯\n",
       "     │\u001b[90m Int64   \u001b[0m\u001b[90m String                            \u001b[0m\u001b[90m String15            \u001b[0m\u001b[90m String\u001b[0m ⋯\n",
       "─────┼──────────────────────────────────────────────────────────────────────────\n",
       "   1 │       0  Jeep Compass 2.0 Longitude Optio…  10.03 Lakh           86,226 ⋯\n",
       "   2 │       1  Renault Duster RXZ Turbo CVT       12.83 Lakh           13,248\n",
       "   3 │       2  Toyota Camry 2.5 G                 16.40 Lakh           60,343\n",
       "   4 │       3  Honda Jazz VX CVT                  7.77 Lakh            26,696\n",
       "   5 │       4  Volkswagen Polo 1.2 MPI Highline   5.15 Lakh            69,414 ⋯\n",
       "\u001b[36m                                                               7 columns omitted\u001b[0m"
      ]
     },
     "metadata": {},
     "output_type": "display_data"
    }
   ],
   "source": [
    "first(oldcarprices,5)"
   ]
  },
  {
   "cell_type": "code",
   "execution_count": 24,
   "metadata": {},
   "outputs": [
    {
     "data": {
      "text/html": [
       "<div><div style = \"float: left;\"><span>5×10 DataFrame</span></div><div style = \"clear: both;\"></div></div><div class = \"data-frame\" style = \"overflow-x: scroll;\"><table class = \"data-frame\" style = \"margin-bottom: 6px;\"><thead><tr class = \"header\"><th class = \"rowNumber\" style = \"font-weight: bold; text-align: right;\">Row</th><th style = \"text-align: left;\">Column1</th><th style = \"text-align: left;\">car_name</th><th style = \"text-align: left;\">car_prices_in_rupee</th><th style = \"text-align: left;\">kms_driven</th><th style = \"text-align: left;\">fuel_type</th><th style = \"text-align: left;\">transmission</th><th style = \"text-align: left;\">ownership</th><th style = \"text-align: left;\">manufacture</th><th style = \"text-align: left;\">engine</th><th style = \"text-align: left;\">Seats</th></tr><tr class = \"subheader headerLastRow\"><th class = \"rowNumber\" style = \"font-weight: bold; text-align: right;\"></th><th title = \"Int64\" style = \"text-align: left;\">Int64</th><th title = \"String\" style = \"text-align: left;\">String</th><th title = \"String15\" style = \"text-align: left;\">String15</th><th title = \"String15\" style = \"text-align: left;\">String15</th><th title = \"String15\" style = \"text-align: left;\">String15</th><th title = \"String15\" style = \"text-align: left;\">String15</th><th title = \"String15\" style = \"text-align: left;\">String15</th><th title = \"Int64\" style = \"text-align: left;\">Int64</th><th title = \"String7\" style = \"text-align: left;\">String7</th><th title = \"String7\" style = \"text-align: left;\">String7</th></tr></thead><tbody><tr><td class = \"rowNumber\" style = \"font-weight: bold; text-align: right;\">1</td><td style = \"text-align: right;\">5507</td><td style = \"text-align: left;\">BMW X1 sDrive 20d xLine</td><td style = \"text-align: left;\">28.90 Lakh</td><td style = \"text-align: left;\">45,000 kms</td><td style = \"text-align: left;\">Diesel</td><td style = \"text-align: left;\">Automatic</td><td style = \"text-align: left;\">1st Owner</td><td style = \"text-align: right;\">2018</td><td style = \"text-align: left;\">2995 cc</td><td style = \"text-align: left;\">7 Seats</td></tr><tr><td class = \"rowNumber\" style = \"font-weight: bold; text-align: right;\">2</td><td style = \"text-align: right;\">5508</td><td style = \"text-align: left;\">BMW M Series M4 Coupe</td><td style = \"text-align: left;\">64.90 Lakh</td><td style = \"text-align: left;\">29,000 kms</td><td style = \"text-align: left;\">Petrol</td><td style = \"text-align: left;\">Automatic</td><td style = \"text-align: left;\">2nd Owner</td><td style = \"text-align: right;\">2015</td><td style = \"text-align: left;\">1968 cc</td><td style = \"text-align: left;\">5 Seats</td></tr><tr><td class = \"rowNumber\" style = \"font-weight: bold; text-align: right;\">3</td><td style = \"text-align: right;\">5509</td><td style = \"text-align: left;\">Jaguar XF 2.2 Litre Luxury</td><td style = \"text-align: left;\">13.75 Lakh</td><td style = \"text-align: left;\">90,000 kms</td><td style = \"text-align: left;\">Diesel</td><td style = \"text-align: left;\">Automatic</td><td style = \"text-align: left;\">2nd Owner</td><td style = \"text-align: right;\">2013</td><td style = \"text-align: left;\">2755 cc</td><td style = \"text-align: left;\">5 Seats</td></tr><tr><td class = \"rowNumber\" style = \"font-weight: bold; text-align: right;\">4</td><td style = \"text-align: right;\">5510</td><td style = \"text-align: left;\">BMW 7 Series 730Ld</td><td style = \"text-align: left;\">29.90 Lakh</td><td style = \"text-align: left;\">79,000 kms</td><td style = \"text-align: left;\">Diesel</td><td style = \"text-align: left;\">Automatic</td><td style = \"text-align: left;\">3rd Owner</td><td style = \"text-align: right;\">2015</td><td style = \"text-align: left;\">2967 cc</td><td style = \"text-align: left;\">6 Seats</td></tr><tr><td class = \"rowNumber\" style = \"font-weight: bold; text-align: right;\">5</td><td style = \"text-align: right;\">5511</td><td style = \"text-align: left;\">BMW 5 Series 520d M Sport</td><td style = \"text-align: left;\">31.90 Lakh</td><td style = \"text-align: left;\">42,000 kms</td><td style = \"text-align: left;\">Diesel</td><td style = \"text-align: left;\">Automatic</td><td style = \"text-align: left;\">2nd Owner</td><td style = \"text-align: right;\">2017</td><td style = \"text-align: left;\">1991 cc</td><td style = \"text-align: left;\">5 Seats</td></tr></tbody></table></div>"
      ],
      "text/latex": [
       "\\begin{tabular}{r|cccccc}\n",
       "\t& Column1 & car\\_name & car\\_prices\\_in\\_rupee & kms\\_driven & fuel\\_type & \\\\\n",
       "\t\\hline\n",
       "\t& Int64 & String & String15 & String15 & String15 & \\\\\n",
       "\t\\hline\n",
       "\t1 & 5507 & BMW X1 sDrive 20d xLine & 28.90 Lakh & 45,000 kms & Diesel & $\\dots$ \\\\\n",
       "\t2 & 5508 & BMW M Series M4 Coupe & 64.90 Lakh & 29,000 kms & Petrol & $\\dots$ \\\\\n",
       "\t3 & 5509 & Jaguar XF 2.2 Litre Luxury & 13.75 Lakh & 90,000 kms & Diesel & $\\dots$ \\\\\n",
       "\t4 & 5510 & BMW 7 Series 730Ld & 29.90 Lakh & 79,000 kms & Diesel & $\\dots$ \\\\\n",
       "\t5 & 5511 & BMW 5 Series 520d M Sport & 31.90 Lakh & 42,000 kms & Diesel & $\\dots$ \\\\\n",
       "\\end{tabular}\n"
      ],
      "text/plain": [
       "\u001b[1m5×10 DataFrame\u001b[0m\n",
       "\u001b[1m Row \u001b[0m│\u001b[1m Column1 \u001b[0m\u001b[1m car_name                   \u001b[0m\u001b[1m car_prices_in_rupee \u001b[0m\u001b[1m kms_driven \u001b[0m\u001b[1m f\u001b[0m ⋯\n",
       "     │\u001b[90m Int64   \u001b[0m\u001b[90m String                     \u001b[0m\u001b[90m String15            \u001b[0m\u001b[90m String15   \u001b[0m\u001b[90m S\u001b[0m ⋯\n",
       "─────┼──────────────────────────────────────────────────────────────────────────\n",
       "   1 │    5507  BMW X1 sDrive 20d xLine     28.90 Lakh           45,000 kms  D ⋯\n",
       "   2 │    5508  BMW M Series M4 Coupe       64.90 Lakh           29,000 kms  P\n",
       "   3 │    5509  Jaguar XF 2.2 Litre Luxury  13.75 Lakh           90,000 kms  D\n",
       "   4 │    5510  BMW 7 Series 730Ld          29.90 Lakh           79,000 kms  D\n",
       "   5 │    5511  BMW 5 Series 520d M Sport   31.90 Lakh           42,000 kms  D ⋯\n",
       "\u001b[36m                                                               6 columns omitted\u001b[0m"
      ]
     },
     "metadata": {},
     "output_type": "display_data"
    }
   ],
   "source": [
    "last(oldcarprices,5)"
   ]
  },
  {
   "cell_type": "code",
   "execution_count": 25,
   "metadata": {},
   "outputs": [
    {
     "name": "stdout",
     "output_type": "stream",
     "text": [
      "Summary Stats:\n",
      "Length:         5512"
     ]
    },
    {
     "name": "stdout",
     "output_type": "stream",
     "text": [
      "\n",
      "Type:           CSV.Row\n",
      "Number Unique:  5512\n"
     ]
    }
   ],
   "source": [
    "describe(oldcarprice)"
   ]
  },
  {
   "cell_type": "code",
   "execution_count": 26,
   "metadata": {},
   "outputs": [
    {
     "data": {
      "text/plain": [
       "5512-element Vector{String15}:\n",
       " \"10.03 Lakh\"\n",
       " \"12.83 Lakh\"\n",
       " \"16.40 Lakh\"\n",
       " \"7.77 Lakh\"\n",
       " \"5.15 Lakh\"\n",
       " \"7.66 Lakh\"\n",
       " \"7.58 Lakh\"\n",
       " \"11.60 Lakh\"\n",
       " \"6.99 Lakh\"\n",
       " \"7.53 Lakh\"\n",
       " ⋮\n",
       " \"10.90 Lakh\"\n",
       " \"49.90 Lakh\"\n",
       " \"7.95 Lakh\"\n",
       " \"32.90 Lakh\"\n",
       " \"28.90 Lakh\"\n",
       " \"64.90 Lakh\"\n",
       " \"13.75 Lakh\"\n",
       " \"29.90 Lakh\"\n",
       " \"31.90 Lakh\""
      ]
     },
     "metadata": {},
     "output_type": "display_data"
    }
   ],
   "source": [
    "x=oldcarprice.kms_driven\n",
    "y=oldcarprice.car_prices_in_rupee\n"
   ]
  },
  {
   "cell_type": "code",
   "execution_count": 28,
   "metadata": {},
   "outputs": [
    {
     "name": "stdout",
     "output_type": "stream",
     "text": [
      "  76.987 ns (1 allocation: 64 bytes)\n"
     ]
    },
    {
     "name": "stdout",
     "output_type": "stream",
     "text": [
      "  17.936 ns (0 allocations: 0 bytes)\n"
     ]
    },
    {
     "data": {
      "text/plain": [
       "5511×0 view(reshape(::CSV.File, 5512, 1), 1:5511, 1:0) with eltype CSV.Row"
      ]
     },
     "metadata": {},
     "output_type": "display_data"
    }
   ],
   "source": [
    "using BenchmarkTools\n",
    "@btime $oldcarprice[1:end-1,1:end-1];\n",
    "@btime @view $oldcarprice[1:end-1,1:end-1]\n"
   ]
  },
  {
   "cell_type": "code",
   "execution_count": null,
   "metadata": {},
   "outputs": [],
   "source": []
  }
 ],
 "metadata": {
  "kernelspec": {
   "display_name": "Julia 1.10.2",
   "language": "julia",
   "name": "julia-1.10"
  },
  "language_info": {
   "file_extension": ".jl",
   "mimetype": "application/julia",
   "name": "julia",
   "version": "1.10.2"
  }
 },
 "nbformat": 4,
 "nbformat_minor": 2
}
